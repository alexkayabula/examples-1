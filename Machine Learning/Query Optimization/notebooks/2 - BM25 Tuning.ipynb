{
 "cells": [
  {
   "cell_type": "markdown",
   "metadata": {},
   "source": [
    "# Tuning BM25 parameters on the MSMARCO Document dataset\n",
    "\n",
    "The following shows a principled, data-driven approach to tuning BM25 parameters with a basic query, using the MSMARCO Document dataset. This assumes familiarity with basic query tuning as shown in the \"Query Tuning\" notebooks.\n",
    "\n",
    "BM25 contains two parameters `k1` and `b`. Roughly speaking (very roughly), `k1` controls the amount of term saturation (at some point, more terms does not mean more relevant) and `b` controls the importance of document length. A deeper look into these parameters is beyond the scope of this notebook, but our [three part blog series on understanding BM25](https://www.elastic.co/blog/practical-bm25-part-1-how-shards-affect-relevance-scoring-in-elasticsearch) is very useful for that."
   ]
  },
  {
   "cell_type": "code",
   "execution_count": 1,
   "metadata": {},
   "outputs": [],
   "source": [
    "%load_ext autoreload\n",
    "%autoreload 2"
   ]
  },
  {
   "cell_type": "code",
   "execution_count": 2,
   "metadata": {},
   "outputs": [],
   "source": [
    "import importlib\n",
    "import os\n",
    "import sys\n",
    "\n",
    "from elasticsearch import Elasticsearch\n",
    "from skopt.plots import plot_objective"
   ]
  },
  {
   "cell_type": "code",
   "execution_count": 3,
   "metadata": {},
   "outputs": [],
   "source": [
    "# project library\n",
    "sys.path.insert(0, os.path.abspath('..'))\n",
    "\n",
    "import qopt\n",
    "importlib.reload(qopt)\n",
    "\n",
    "from qopt.notebooks import evaluate_mrr100_dev, optimize_bm25_mrr100\n",
    "from qopt.optimize import Config, set_bm25_parameters"
   ]
  },
  {
   "cell_type": "code",
   "execution_count": 4,
   "metadata": {},
   "outputs": [],
   "source": [
    "# use a local Elasticsearch or Cloud instance (https://cloud.elastic.co/)\n",
    "# es = Elasticsearch('http://localhost:9200')\n",
    "es = Elasticsearch('http://35.234.93.126:9200')\n",
    "\n",
    "# set the parallelization parameter `max_concurrent_searches` for the Rank Evaluation API calls\n",
    "max_concurrent_searches = 30\n",
    "\n",
    "# default Elasticsearch BM25 params\n",
    "default_bm25_params = {'k1': 1.2, 'b': 0.75}\n",
    "\n",
    "# default query params for cross_fields\n",
    "query_params = {\n",
    "    'operator': 'OR',\n",
    "    'minimum_should_match': 50,  # in percent/%\n",
    "    'tie_breaker': 0.0,\n",
    "    'url|boost': 1.0,\n",
    "    'title|boost': 1.0,\n",
    "    'body|boost': 1.0,\n",
    "}"
   ]
  },
  {
   "cell_type": "markdown",
   "metadata": {},
   "source": [
    "## Baseline evaluation\n",
    "\n",
    "For tuning the BM25 parameters, we're going to reuse [the `multi_match` query of type `cross_fields`](https://www.elastic.co/guide/en/elasticsearch/reference/current/query-dsl-multi-match-query.html#type-cross-fields) that we saw in the \"Query Tuning\" notebook. It will search for query terms across the `url`, `title`, and `body` fields, and we'll be attempting to optimize the BM25 parameters that are used in the scoring function for each field. In theory, each field could have it's own BM25 [similarty](https://www.elastic.co/guide/en/elasticsearch/reference/current/index-modules-similarity.html#bm25) and parameters, but we'll leave that as an exercise to the reader.\n",
    "\n",
    "Since BM25 parameters are actually index settings in Elasticsearch (they are theoretically query parameters, but they are implemented as index settings to be consistent with other similarity modules), we need to make sure to set the parameters before any evaluation step. At optimization time, we'lll do the same process: set the BM25 parameters to try, then run the rank evaluation API on the training query dataset."
   ]
  },
  {
   "cell_type": "code",
   "execution_count": 5,
   "metadata": {},
   "outputs": [
    {
     "name": "stdout",
     "output_type": "stream",
     "text": [
      "Score: 0.2482\n",
      "CPU times: user 1.93 s, sys: 626 ms, total: 2.56 s\n",
      "Wall time: 1min 30s\n"
     ]
    }
   ],
   "source": [
    "%%time\n",
    "\n",
    "set_bm25_parameters(es, 'msmarco-document', **default_bm25_params)\n",
    "\n",
    "_ = evaluate_mrr100_dev(es, max_concurrent_searches, 'cross_fields', query_params)"
   ]
  },
  {
   "cell_type": "markdown",
   "metadata": {},
   "source": [
    "That's the same baseline that we've seen in the \"Query Tuning\" notebook, so we know we're setup correctly."
   ]
  },
  {
   "cell_type": "markdown",
   "metadata": {},
   "source": [
    "## Optimization\n",
    "\n",
    "Now we're ready to run the optimization procedure and see if we can improve on that, while holding the default query parameters constant.\n",
    "\n",
    "We know that there's roughly a standard range for each parameter, so we've hardcoded those. We don't show all the code details here, but you can have a look in the corresponding Python module files for more details. Here's the pertinent details for our parameter space:\n",
    "\n",
    "* `k1`: `0.5` to `5.0`\n",
    "* `b`: `0.3` to `1.0`\n",
    "* number of iterations: 30\n",
    "* number of initial points: 10\n",
    "* static initial points:\n",
    "  * Elasticsearch defaults: `k1`: `1.2`, `b`: `0.75`\n",
    "  * Anserini [1] defaults: `k1`: `0.9`, `b`: `0.4`\n",
    "  \n",
    "[1] [anserini](https://github.com/castorini/anserini) is a commonly used tool in academia for research into search systems"
   ]
  },
  {
   "cell_type": "code",
   "execution_count": 6,
   "metadata": {},
   "outputs": [
    {
     "name": "stdout",
     "output_type": "stream",
     "text": [
      "Optimizing parameters\n",
      " - iteration 2 scored 0.1961 with: {'k1': 0.9, 'b': 0.4}\n",
      " - iteration 3 scored 0.2216 with: {'k1': 1.8951964446829386, 'b': 0.5423788010957517}\n",
      " - iteration 4 scored 0.2382 with: {'k1': 4.595954750726818, 'b': 0.9681603137809847}\n",
      " - iteration 5 scored 0.2358 with: {'k1': 1.9731473162168551, 'b': 0.7720132919668108}\n",
      " - iteration 6 scored 0.2134 with: {'k1': 1.2042379186255172, 'b': 0.5363036347513874}\n",
      " - iteration 7 scored 0.1961 with: {'k1': 3.8254050060411235, 'b': 0.33302472256194027}\n",
      " - iteration 8 scored 0.2005 with: {'k1': 0.538141472506922, 'b': 0.5818630229331395}\n",
      " - iteration 9 scored 0.2029 with: {'k1': 0.9389559462782264, 'b': 0.47797193816941463}\n",
      " - iteration 10 scored 0.2241 with: {'k1': 1.0413223976242534, 'b': 0.8699446465242051}\n",
      " - iteration 11 scored 0.2076 with: {'k1': 3.7710720698140707, 'b': 0.38512357469838454}\n",
      " - iteration 12 scored 0.2075 with: {'k1': 2.432645756029066, 'b': 0.3903318000947358}\n",
      " - iteration 13 scored 0.2346 with: {'k1': 3.0574909818346887, 'b': 1.0}\n",
      " - iteration 14 scored 0.2393 with: {'k1': 4.2417890109385095, 'b': 0.7534298794898223}\n",
      " - iteration 15 scored 0.2373 with: {'k1': 5.0, 'b': 0.7844470755491588}\n",
      " - iteration 16 scored 0.2387 with: {'k1': 3.2839800700061024, 'b': 0.8056371272382288}\n",
      " - iteration 17 scored 0.2305 with: {'k1': 5.0, 'b': 1.0}\n",
      " - iteration 18 scored 0.2245 with: {'k1': 4.99944635537464, 'b': 0.6129425911867936}\n",
      " - iteration 19 scored 0.2390 with: {'k1': 3.2828722267587516, 'b': 0.7106237352016753}\n",
      " - iteration 20 scored 0.2019 with: {'k1': 0.5319103797963946, 'b': 0.9988206593514974}\n",
      " - iteration 21 scored 0.2397 with: {'k1': 3.8564190271370964, 'b': 0.868969573450902}\n",
      " - iteration 22 scored 0.2363 with: {'k1': 2.687948531777513, 'b': 0.8576822015875878}\n",
      " - iteration 23 scored 0.2325 with: {'k1': 2.0574500659448525, 'b': 0.9982642123485981}\n",
      " - iteration 24 scored 0.2324 with: {'k1': 3.883862083874532, 'b': 0.9946502347174511}\n",
      " - iteration 25 scored 0.2408 with: {'k1': 4.169882241786443, 'b': 0.8161953972848379}\n",
      " - iteration 26 scored 0.2332 with: {'k1': 3.8381337624779768, 'b': 0.6530722893960748}\n",
      " - iteration 27 scored 0.2362 with: {'k1': 4.994030075536624, 'b': 0.859685791515858}\n",
      " - iteration 28 scored 0.2407 with: {'k1': 4.132442673287283, 'b': 0.8273769488686016}\n",
      " - iteration 29 scored 0.1891 with: {'k1': 4.991174502018775, 'b': 0.30078156363029745}\n",
      " - iteration 30 scored 0.2407 with: {'k1': 4.121686500393739, 'b': 0.8279231136907572}\n",
      "Best score: 0.2408\n",
      "Best params: {'k1': 4.169882241786443, 'b': 0.8161953972848379}\n",
      "Final params: {'k1': 4.169882241786443, 'b': 0.8161953972848379}\n",
      "\n",
      "CPU times: user 28.9 s, sys: 6.85 s, total: 35.8 s\n",
      "Wall time: 9min 29s\n"
     ]
    }
   ],
   "source": [
    "%%time\n",
    "\n",
    "_, best_params, _, metadata = optimize_bm25_mrr100(es, max_concurrent_searches, 'cross_fields', query_params)"
   ]
  },
  {
   "cell_type": "code",
   "execution_count": 7,
   "metadata": {},
   "outputs": [
    {
     "name": "stdout",
     "output_type": "stream",
     "text": [
      "Score: 0.2607\n",
      "CPU times: user 2.06 s, sys: 715 ms, total: 2.77 s\n",
      "Wall time: 1min 29s\n"
     ]
    }
   ],
   "source": [
    "%%time\n",
    "\n",
    "set_bm25_parameters(es, 'msmarco-document', **best_params)\n",
    "\n",
    "_ = evaluate_mrr100_dev(es, max_concurrent_searches, 'cross_fields', query_params)"
   ]
  },
  {
   "cell_type": "markdown",
   "metadata": {},
   "source": [
    "Pretty good, we see an improvement just from tuning the BM25 parameters. Here's a look at the parameter space, which is easy to plot here since there are just two parameters."
   ]
  },
  {
   "cell_type": "code",
   "execution_count": 8,
   "metadata": {},
   "outputs": [
    {
     "data": {
      "image/png": "[encoded data removed]",
      "text/plain": [
       "<Figure size 288x288 with 4 Axes>"
      ]
     },
     "metadata": {
      "needs_background": "light"
     },
     "output_type": "display_data"
    }
   ],
   "source": [
    "_ = plot_objective(metadata, sample_source='result')"
   ]
  },
  {
   "cell_type": "markdown",
   "metadata": {},
   "source": [
    "It's good to see smooth curves with just a single optimal point in the parameter space.\n",
    "\n",
    "Before we wrap up the notebook, it's good to set the BM25 index settings back to the defaults so that anything we run after this notebook on the same index will not be using unexpected parameter values!"
   ]
  },
  {
   "cell_type": "code",
   "execution_count": 9,
   "metadata": {},
   "outputs": [],
   "source": [
    "set_bm25_parameters(es, 'msmarco-document', **default_bm25_params)"
   ]
  },
  {
   "cell_type": "markdown",
   "metadata": {},
   "source": [
    "## Conclusion\n",
    "\n",
    "We've shown a very simple but principled way to tune BM25 parameters `k1` and `b`. We've used a similar approach as when optimizing query parameters. In this case, it was useful to rely on Bayesian optimization since we set a pretty wide range over parameters. Stepping through each 1/10th or 1/100th of each parameter in a grid search would be very time consuming indeed."
   ]
  },
  {
   "cell_type": "code",
   "execution_count": null,
   "metadata": {},
   "outputs": [],
   "source": []
  }
 ],
 "metadata": {
  "kernelspec": {
   "display_name": "Python 3",
   "language": "python",
   "name": "python3"
  },
  "language_info": {
   "codemirror_mode": {
    "name": "ipython",
    "version": 3
   },
   "file_extension": ".py",
   "mimetype": "text/x-python",
   "name": "python",
   "nbconvert_exporter": "python",
   "pygments_lexer": "ipython3",
   "version": "3.7.7"
  }
 },
 "nbformat": 4,
 "nbformat_minor": 4
}

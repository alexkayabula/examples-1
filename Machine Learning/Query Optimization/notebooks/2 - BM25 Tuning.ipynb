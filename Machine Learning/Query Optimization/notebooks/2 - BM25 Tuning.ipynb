{
 "cells": [
  {
   "cell_type": "markdown",
   "metadata": {},
   "source": [
    "# Tuning BM25 parameters on the MSMARCO Document dataset\n",
    "\n",
    "The following shows a principled, data-driven approach to tuning BM25 parameters with a basic query, using the MSMARCO Document dataset. This assumes familiarity with basic query tuning as shown in the \"Query Tuning\" notebooks.\n",
    "\n",
    "BM25 contains two parameters `k1` and `b`. Roughly speaking (very roughly), `k1` controls the amount of term saturation (at some point, more terms does not mean more relevant) and `b` controls the importance of document length. A deeper look into these parameters is beyond the scope of this notebook, but our [three part blog series on understanding BM25](https://www.elastic.co/blog/practical-bm25-part-1-how-shards-affect-relevance-scoring-in-elasticsearch) is very useful for that."
   ]
  },
  {
   "cell_type": "code",
   "execution_count": null,
   "metadata": {},
   "outputs": [],
   "source": [
    "%load_ext autoreload\n",
    "%autoreload 2"
   ]
  },
  {
   "cell_type": "code",
   "execution_count": 2,
   "metadata": {},
   "outputs": [],
   "source": [
    "import importlib\n",
    "import os\n",
    "import sys\n",
    "\n",
    "from elasticsearch import Elasticsearch\n",
    "from skopt.plots import plot_objective"
   ]
  },
  {
   "cell_type": "code",
   "execution_count": 3,
   "metadata": {},
   "outputs": [],
   "source": [
    "# project library\n",
    "sys.path.insert(0, os.path.abspath('..'))\n",
    "\n",
    "import qopt\n",
    "importlib.reload(qopt)\n",
    "\n",
    "from qopt.notebooks import evaluate_mrr100_dev, optimize_bm25_mrr100\n",
    "from qopt.optimize import Config, set_bm25_parameters"
   ]
  },
  {
   "cell_type": "code",
   "execution_count": 4,
   "metadata": {},
   "outputs": [],
   "source": [
    "# use a local Elasticsearch or Cloud instance (https://cloud.elastic.co/)\n",
    "# es = Elasticsearch('http://localhost:9200')\n",
    "es = Elasticsearch('http://35.234.93.126:9200')\n",
    "\n",
    "# set the parallelization parameter `max_concurrent_searches` for the Rank Evaluation API calls\n",
    "max_concurrent_searches = 30\n",
    "\n",
    "index = 'msmarco-document'\n",
    "template_id = 'combined_matches'\n",
    "\n",
    "# no query params\n",
    "query_params = {}\n",
    "\n",
    "# default Elasticsearch BM25 params\n",
    "default_bm25_params = {'k1': 1.2, 'b': 0.75}"
   ]
  },
  {
   "cell_type": "markdown",
   "metadata": {},
   "source": [
    "## Baseline evaluation\n",
    "\n",
    "For tuning the BM25 parameters, we're going to use just a `match` query per field, combined using a `bool` `should` query. This will search for query terms across the `url`, `title`, and `body` fields, and we'll be attempting to optimize the BM25 parameters that are used in the scoring function for each field. In theory, each field could have it's own BM25 [similarty](https://www.elastic.co/guide/en/elasticsearch/reference/current/index-modules-similarity.html#bm25) and parameters, but we'll leave that as an exercise to the reader.\n",
    "\n",
    "Since BM25 parameters are actually index settings in Elasticsearch (they are theoretically query parameters, but they are implemented as index settings to be consistent with other similarity modules), we need to make sure to set the parameters before any evaluation step. At optimization time, we'lll do the same process: set the BM25 parameters to try, then run the rank evaluation API on the training query dataset."
   ]
  },
  {
   "cell_type": "code",
   "execution_count": 5,
   "metadata": {},
   "outputs": [
    {
     "name": "stdout",
     "output_type": "stream",
     "text": [
      "Score: 0.2495\n",
      "CPU times: user 2.04 s, sys: 647 ms, total: 2.68 s\n",
      "Wall time: 31 s\n"
     ]
    }
   ],
   "source": [
    "%%time\n",
    "\n",
    "set_bm25_parameters(es, index, **default_bm25_params)\n",
    "\n",
    "_ = evaluate_mrr100_dev(es, max_concurrent_searches, index, template_id, query_params)"
   ]
  },
  {
   "cell_type": "markdown",
   "metadata": {},
   "source": [
    "That's the same baseline that we've seen in the \"Query Tuning\" notebook, so we know we're setup correctly."
   ]
  },
  {
   "cell_type": "markdown",
   "metadata": {},
   "source": [
    "## Optimization\n",
    "\n",
    "Now we're ready to run the optimization procedure and see if we can improve on that, while holding the default query parameters constant.\n",
    "\n",
    "We know that there's roughly a standard range for each parameter, so we've hardcoded those. We don't show all the code details here, but you can have a look in the corresponding Python module files for more details. Here's the pertinent details for our parameter space:\n",
    "\n",
    "* `k1`: `0.5` to `5.0`\n",
    "* `b`: `0.3` to `1.0`\n",
    "* number of iterations: `50`\n",
    "* number of initial points: `10`\n",
    "* static initial points:\n",
    "  * Elasticsearch defaults: `k1`: `1.2`, `b`: `0.75`\n",
    "  * Anserini [1] defaults: `k1`: `0.9`, `b`: `0.4`\n",
    "  \n",
    "[1] [anserini](https://github.com/castorini/anserini) is a commonly used tool in academia for research into search systems"
   ]
  },
  {
   "cell_type": "code",
   "execution_count": 9,
   "metadata": {},
   "outputs": [
    {
     "name": "stdout",
     "output_type": "stream",
     "text": [
      "Optimizing parameters\n",
      " - iteration 2 scored 0.2172 with: {'k1': 0.9, 'b': 0.4}\n",
      " - iteration 3 scored 0.2271 with: {'k1': 3.89269078339221, 'b': 0.47574731687882166}\n",
      " - iteration 4 scored 0.2275 with: {'k1': 4.465411209167716, 'b': 0.8814801342499619}\n",
      " - iteration 5 scored 0.2299 with: {'k1': 3.6062735973555453, 'b': 0.48037085472487073}\n",
      " - iteration 6 scored 0.2253 with: {'k1': 3.032113566167104, 'b': 0.3591032378585195}\n",
      " - iteration 7 scored 0.2171 with: {'k1': 0.7980759264434728, 'b': 0.3852650654758016}\n",
      " - iteration 8 scored 0.2351 with: {'k1': 3.0262192702235193, 'b': 0.744825642200192}\n",
      " - iteration 9 scored 0.2316 with: {'k1': 4.700715630070509, 'b': 0.5965166003379252}\n",
      " - iteration 10 scored 0.2223 with: {'k1': 1.3102578898582458, 'b': 0.3796900203613099}\n",
      " - iteration 11 scored 0.2257 with: {'k1': 4.404146605030487, 'b': 0.49108031486201653}\n",
      " - iteration 12 scored 0.2159 with: {'k1': 4.543294310908529, 'b': 0.31300946444932326}\n",
      " - iteration 13 scored 0.2157 with: {'k1': 2.380848162861424, 'b': 0.9998949819485765}\n",
      " - iteration 14 scored 0.2356 with: {'k1': 2.9426760446289784, 'b': 0.6164685591786535}\n",
      " - iteration 15 scored 0.2352 with: {'k1': 3.775560065008971, 'b': 0.6828092645104302}\n",
      " - iteration 16 scored 0.2145 with: {'k1': 0.5, 'b': 1.0}\n",
      " - iteration 17 scored 0.2336 with: {'k1': 4.997497332170431, 'b': 0.7496184785744404}\n",
      " - iteration 18 scored 0.2363 with: {'k1': 2.8195873305169314, 'b': 0.6697432944767512}\n",
      " - iteration 19 scored 0.2365 with: {'k1': 3.185354146701656, 'b': 0.6680926663680888}\n",
      " - iteration 20 scored 0.2358 with: {'k1': 3.1487852165354226, 'b': 0.6709679686838794}\n",
      " - iteration 21 scored 0.2182 with: {'k1': 4.998532970712262, 'b': 0.9894314675721199}\n",
      " - iteration 22 scored 0.2348 with: {'k1': 2.710504591589407, 'b': 0.6620057677712756}\n",
      " - iteration 23 scored 0.2154 with: {'k1': 0.5072339526989735, 'b': 0.6028887142653923}\n",
      " - iteration 24 scored 0.2318 with: {'k1': 2.153993148940918, 'b': 0.5209520805785393}\n",
      " - iteration 25 scored 0.2210 with: {'k1': 1.940896551325987, 'b': 0.30075586074962113}\n",
      " - iteration 26 scored 0.2267 with: {'k1': 2.2313159351430443, 'b': 0.8327948889327064}\n",
      " - iteration 27 scored 0.2349 with: {'k1': 3.5261716314317777, 'b': 0.6973193643000974}\n",
      " - iteration 28 scored 0.2176 with: {'k1': 0.5016170061139271, 'b': 0.829328605035522}\n",
      " - iteration 29 scored 0.2143 with: {'k1': 0.6184203441280774, 'b': 0.3009398157382433}\n",
      " - iteration 30 scored 0.2367 with: {'k1': 3.1198686266312787, 'b': 0.6467850364077298}\n",
      " - iteration 31 scored 0.2369 with: {'k1': 3.1264851009536256, 'b': 0.6436249108765422}\n",
      " - iteration 32 scored 0.2164 with: {'k1': 3.771163212673258, 'b': 0.9999341879422383}\n",
      " - iteration 33 scored 0.2370 with: {'k1': 3.1295989948698018, 'b': 0.6413568109634455}\n",
      " - iteration 34 scored 0.2294 with: {'k1': 1.9182079695787426, 'b': 0.6405861786713885}\n",
      " - iteration 35 scored 0.2360 with: {'k1': 3.338669770201052, 'b': 0.6161183925854186}\n",
      " - iteration 36 scored 0.2332 with: {'k1': 3.8864024467166316, 'b': 0.7894310652960992}\n",
      " - iteration 37 scored 0.2229 with: {'k1': 4.998964558945125, 'b': 0.45030268869689716}\n",
      " - iteration 38 scored 0.2305 with: {'k1': 4.996624438198031, 'b': 0.6529030253518351}\n",
      " - iteration 39 scored 0.2321 with: {'k1': 4.99543105315984, 'b': 0.8093565140265304}\n",
      " - iteration 40 scored 0.2370 with: {'k1': 3.272035675385448, 'b': 0.6518518366688657}\n",
      " - iteration 41 scored 0.2276 with: {'k1': 2.578572863833702, 'b': 0.44615757462334266}\n",
      " - iteration 42 scored 0.2364 with: {'k1': 3.362726956072519, 'b': 0.6651181236264445}\n",
      " - iteration 43 scored 0.2356 with: {'k1': 4.283213591746429, 'b': 0.7040085065121541}\n",
      " - iteration 44 scored 0.2326 with: {'k1': 3.318276554502104, 'b': 0.8269565131138505}\n",
      " - iteration 45 scored 0.2367 with: {'k1': 3.4078858902237146, 'b': 0.6775816325062821}\n",
      " - iteration 46 scored 0.2121 with: {'k1': 4.960251165090372, 'b': 0.3015902902287665}\n",
      " - iteration 47 scored 0.2367 with: {'k1': 3.41402019498543, 'b': 0.6779992574164067}\n",
      " - iteration 48 scored 0.2325 with: {'k1': 4.9982908513276705, 'b': 0.7190182463477242}\n",
      " - iteration 49 scored 0.2367 with: {'k1': 3.403676382601885, 'b': 0.6773458577431064}\n",
      " - iteration 50 scored 0.2367 with: {'k1': 3.399760965122998, 'b': 0.6770784431269827}\n",
      "Best score: 0.2370\n",
      "Best params: {'k1': 3.272035675385448, 'b': 0.6518518366688657}\n",
      "Final params: {'k1': 3.272035675385448, 'b': 0.6518518366688657}\n",
      "\n",
      "CPU times: user 1min 2s, sys: 13.7 s, total: 1min 15s\n",
      "Wall time: 6min 42s\n"
     ]
    }
   ],
   "source": [
    "%%time\n",
    "\n",
    "_, best_params, _, metadata = optimize_bm25_mrr100(es, max_concurrent_searches, index template_id, query_params)"
   ]
  },
  {
   "cell_type": "code",
   "execution_count": 10,
   "metadata": {},
   "outputs": [
    {
     "name": "stdout",
     "output_type": "stream",
     "text": [
      "Score: 0.2575\n",
      "CPU times: user 2.02 s, sys: 757 ms, total: 2.78 s\n",
      "Wall time: 36.5 s\n"
     ]
    }
   ],
   "source": [
    "%%time\n",
    "\n",
    "set_bm25_parameters(es, index, **best_params)\n",
    "\n",
    "_ = evaluate_mrr100_dev(es, max_concurrent_searches, index, template_id, query_params)"
   ]
  },
  {
   "cell_type": "markdown",
   "metadata": {},
   "source": [
    "Pretty good, we see an improvement just from tuning the BM25 parameters. Here's a look at the parameter space, which is easy to plot here since there are just two parameters."
   ]
  },
  {
   "cell_type": "code",
   "execution_count": 11,
   "metadata": {},
   "outputs": [
    {
     "data": {
      "image/png": "[encoded data removed]",
      "text/plain": [
       "<Figure size 288x288 with 4 Axes>"
      ]
     },
     "metadata": {
      "needs_background": "light"
     },
     "output_type": "display_data"
    }
   ],
   "source": [
    "_ = plot_objective(metadata, sample_source='result')"
   ]
  },
  {
   "cell_type": "markdown",
   "metadata": {},
   "source": [
    "It's good to see smooth curves with just a single optimal point in the parameter space.\n",
    "\n",
    "Before we wrap up the notebook, it's good to set the BM25 index settings back to the defaults so that anything we run after this notebook on the same index will not be using unexpected parameter values!"
   ]
  },
  {
   "cell_type": "code",
   "execution_count": 12,
   "metadata": {},
   "outputs": [],
   "source": [
    "set_bm25_parameters(es, index, **default_bm25_params)"
   ]
  },
  {
   "cell_type": "markdown",
   "metadata": {},
   "source": [
    "## Conclusion\n",
    "\n",
    "We've shown a very simple but principled way to tune BM25 parameters `k1` and `b`. We've used a similar approach as when optimizing query parameters. In this case, it was useful to rely on Bayesian optimization since we set a pretty wide range over parameters. Stepping through each 1/10th or 1/100th of each parameter in a grid search would be very time consuming indeed."
   ]
  },
  {
   "cell_type": "code",
   "execution_count": null,
   "metadata": {},
   "outputs": [],
   "source": []
  }
 ],
 "metadata": {
  "kernelspec": {
   "display_name": "Python 3",
   "language": "python",
   "name": "python3"
  },
  "language_info": {
   "codemirror_mode": {
    "name": "ipython",
    "version": 3
   },
   "file_extension": ".py",
   "mimetype": "text/x-python",
   "name": "python",
   "nbconvert_exporter": "python",
   "pygments_lexer": "ipython3",
   "version": "3.7.7"
  }
 },
 "nbformat": 4,
 "nbformat_minor": 4
}

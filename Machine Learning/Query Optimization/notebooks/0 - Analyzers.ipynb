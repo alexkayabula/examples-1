{
 "cells": [
  {
   "cell_type": "markdown",
   "metadata": {},
   "source": [
    "# Configuring analyzers for the MSMARCO Document dataset\n",
    "\n",
    "Before we start tuning queries and other index parameters, we wanted to first show a very simple iteration on the standard analyzers. In the MS MARCO Document dataset we have three fields: `url`, `title` and `body`. We tried just couple very small improvements, mostly to stopword lists, to see what would happen to our baseline queries. We now have two indices to play with:\n",
    "\n",
    "- `msmarco-doument.defaults` with some default analyzers\n",
    " - `url`: standard\n",
    " - `title`: english\n",
    " - `body`: english\n",
    "- `msmarco-document` with customized analyzers\n",
    " - `url`: english with URL-specific stopword list\n",
    " - `title`: english with question-specfic stopword list\n",
    " - `body`: english with question-specfic stopword list\n",
    "\n",
    "The stopword lists have been changed:\n",
    " 1. Since the MS MARCO query dataset is all questions, it makes sense to add a few extra stop words like: who, what, when where, why, how\n",
    " 1. URLs in addition have some other words that don't really need to be searched on: http, https, www, com, edu\n",
    " \n",
    "More details can be found in the index settings in `conf`."
   ]
  },
  {
   "cell_type": "code",
   "execution_count": 1,
   "metadata": {},
   "outputs": [],
   "source": [
    "%load_ext autoreload\n",
    "%autoreload 2"
   ]
  },
  {
   "cell_type": "code",
   "execution_count": 2,
   "metadata": {},
   "outputs": [],
   "source": [
    "import importlib\n",
    "import os\n",
    "import sys\n",
    "\n",
    "from elasticsearch import Elasticsearch"
   ]
  },
  {
   "cell_type": "code",
   "execution_count": 15,
   "metadata": {},
   "outputs": [],
   "source": [
    "# project library\n",
    "sys.path.insert(0, os.path.abspath('..'))\n",
    "\n",
    "import qopt\n",
    "importlib.reload(qopt)\n",
    "\n",
    "from qopt.notebooks import evaluate_mrr100_dev"
   ]
  },
  {
   "cell_type": "code",
   "execution_count": 4,
   "metadata": {},
   "outputs": [],
   "source": [
    "# use a local Elasticsearch or Cloud instance (https://cloud.elastic.co/)\n",
    "# es = Elasticsearch('http://localhost:9200')\n",
    "es = Elasticsearch('http://35.234.93.126:9200')\n",
    "\n",
    "# set the parallelization parameter `max_concurrent_searches` for the Rank Evaluation API calls\n",
    "# max_concurrent_searches = 10\n",
    "max_concurrent_searches = 30"
   ]
  },
  {
   "cell_type": "markdown",
   "metadata": {},
   "source": [
    "## Comparisons\n",
    "\n",
    "The following runs a series of comparisons between the baseline default index `msmarco-document.default` and the custom index `msmarco-document`. We use multiple query types just to confirm that we make improvements across all of them."
   ]
  },
  {
   "cell_type": "markdown",
   "metadata": {},
   "source": [
    "### Query: combined per-field `match`es"
   ]
  },
  {
   "cell_type": "code",
   "execution_count": 5,
   "metadata": {},
   "outputs": [],
   "source": [
    "def combined_matches(index):\n",
    "    evaluate_mrr100_dev(es, max_concurrent_searches, index,\n",
    "                        'combined_matches', params={})"
   ]
  },
  {
   "cell_type": "code",
   "execution_count": 8,
   "metadata": {},
   "outputs": [
    {
     "name": "stdout",
     "output_type": "stream",
     "text": [
      "Score: 0.2385\n",
      "CPU times: user 2.52 s, sys: 917 ms, total: 3.43 s\n",
      "Wall time: 5min 20s\n"
     ]
    }
   ],
   "source": [
    "%%time\n",
    "\n",
    "combined_matches('msmarco-document.defaults')"
   ]
  },
  {
   "cell_type": "code",
   "execution_count": 7,
   "metadata": {},
   "outputs": [
    {
     "name": "stdout",
     "output_type": "stream",
     "text": [
      "Score: 0.2495\n",
      "CPU times: user 3 s, sys: 1.13 s, total: 4.13 s\n",
      "Wall time: 38.2 s\n"
     ]
    }
   ],
   "source": [
    "%%time\n",
    "\n",
    "combined_matches('msmarco-document')"
   ]
  },
  {
   "cell_type": "markdown",
   "metadata": {},
   "source": [
    "### Query: `multi_match` `cross_fields`"
   ]
  },
  {
   "cell_type": "code",
   "execution_count": 18,
   "metadata": {},
   "outputs": [],
   "source": [
    "def multi_match_cross_fields(index):\n",
    "    evaluate_mrr100_dev(es, max_concurrent_searches, index,\n",
    "        template_id='cross_fields',\n",
    "        params={\n",
    "            'operator': 'OR',\n",
    "            'minimum_should_match': 50,  # in percent/%\n",
    "            'tie_breaker': 0.0,\n",
    "            'url|boost': 1.0,\n",
    "            'title|boost': 1.0,\n",
    "            'body|boost': 1.0,\n",
    "        })"
   ]
  },
  {
   "cell_type": "code",
   "execution_count": 10,
   "metadata": {},
   "outputs": [
    {
     "name": "stdout",
     "output_type": "stream",
     "text": [
      "Score: 0.2460\n",
      "CPU times: user 3.23 s, sys: 1.47 s, total: 4.7 s\n",
      "Wall time: 1min 56s\n"
     ]
    }
   ],
   "source": [
    "%%time\n",
    "\n",
    "multi_match_cross_fields('msmarco-document.defaults')"
   ]
  },
  {
   "cell_type": "code",
   "execution_count": 19,
   "metadata": {},
   "outputs": [
    {
     "name": "stdout",
     "output_type": "stream",
     "text": [
      "Score: 0.2673\n",
      "CPU times: user 3.18 s, sys: 1.37 s, total: 4.54 s\n",
      "Wall time: 5min 23s\n"
     ]
    }
   ],
   "source": [
    "%%time\n",
    "\n",
    "multi_match_cross_fields('msmarco-document')"
   ]
  },
  {
   "cell_type": "markdown",
   "metadata": {},
   "source": [
    "### Query: `multi_match` `best_fields`"
   ]
  },
  {
   "cell_type": "code",
   "execution_count": 20,
   "metadata": {},
   "outputs": [],
   "source": [
    "def multi_match_best_fields(index):\n",
    "    evaluate_mrr100_dev(es, max_concurrent_searches, index,\n",
    "        template_id='best_fields',\n",
    "        params={\n",
    "            'tie_breaker': 0.0,\n",
    "            'url|boost': 1.0,\n",
    "            'title|boost': 1.0,\n",
    "            'body|boost': 1.0,\n",
    "        })"
   ]
  },
  {
   "cell_type": "code",
   "execution_count": 21,
   "metadata": {},
   "outputs": [
    {
     "name": "stdout",
     "output_type": "stream",
     "text": [
      "Score: 0.2699\n",
      "CPU times: user 2.03 s, sys: 840 ms, total: 2.87 s\n",
      "Wall time: 4min 48s\n"
     ]
    }
   ],
   "source": [
    "%%time\n",
    "\n",
    "multi_match_best_fields('msmarco-document.defaults')"
   ]
  },
  {
   "cell_type": "code",
   "execution_count": 22,
   "metadata": {},
   "outputs": [
    {
     "name": "stdout",
     "output_type": "stream",
     "text": [
      "Score: 0.2879\n",
      "CPU times: user 3.18 s, sys: 1.04 s, total: 4.22 s\n",
      "Wall time: 5min 3s\n"
     ]
    }
   ],
   "source": [
    "%%time\n",
    "\n",
    "multi_match_best_fields('msmarco-document')"
   ]
  },
  {
   "cell_type": "markdown",
   "metadata": {},
   "source": [
    "## Conclusion\n",
    "\n",
    "As you can see, there's a measurable and consistent improvement with just some minor changes to the default analyzers. All other notebooks that follow will use the custom analyzers including for their baseline measurements."
   ]
  },
  {
   "cell_type": "code",
   "execution_count": null,
   "metadata": {},
   "outputs": [],
   "source": []
  }
 ],
 "metadata": {
  "kernelspec": {
   "display_name": "Python 3",
   "language": "python",
   "name": "python3"
  },
  "language_info": {
   "codemirror_mode": {
    "name": "ipython",
    "version": 3
   },
   "file_extension": ".py",
   "mimetype": "text/x-python",
   "name": "python",
   "nbconvert_exporter": "python",
   "pygments_lexer": "ipython3",
   "version": "3.7.7"
  }
 },
 "nbformat": 4,
 "nbformat_minor": 4
}

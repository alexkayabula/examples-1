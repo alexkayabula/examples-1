{
 "cells": [
  {
   "cell_type": "markdown",
   "metadata": {},
   "source": [
    "# Combining queries — a submission to MSMARCO Document challenge\n",
    "\n",
    "In this example, we'll walk through the process of building a more complete and complex query for the MSMARCO Document dataset. This assumes that you are familiar with optimizing a basic query as shown in the \"Query Tuning\" notebook. We'll be using that query and the optimal parameters found there as the foundation on which we build a more complex query.\n",
    "\n",
    "As with the previous notebook and in accordance with the MSMARCO Document ranking task, we'll continue to use MRR@100 on the `dev` dataset for evaluation and comparison with other approaches."
   ]
  },
  {
   "cell_type": "code",
   "execution_count": 3,
   "metadata": {},
   "outputs": [],
   "source": [
    "%load_ext autoreload\n",
    "%autoreload 2"
   ]
  },
  {
   "cell_type": "code",
   "execution_count": 4,
   "metadata": {},
   "outputs": [],
   "source": [
    "import importlib\n",
    "import os\n",
    "import sys\n",
    "\n",
    "from elasticsearch import Elasticsearch\n",
    "from skopt.plots import plot_objective"
   ]
  },
  {
   "cell_type": "code",
   "execution_count": 5,
   "metadata": {},
   "outputs": [],
   "source": [
    "# project library\n",
    "sys.path.insert(0, os.path.abspath('..'))\n",
    "\n",
    "import qopt\n",
    "importlib.reload(qopt)\n",
    "\n",
    "from qopt.notebooks import evaluate_mrr100_dev, optimize_query_mrr100\n",
    "from qopt.optimize import Config"
   ]
  },
  {
   "cell_type": "code",
   "execution_count": 6,
   "metadata": {},
   "outputs": [],
   "source": [
    "# use a local Elasticsearch or Cloud instance (https://cloud.elastic.co/)\n",
    "# es = Elasticsearch('http://localhost:9200')\n",
    "es = Elasticsearch('http://35.234.93.126:9200')\n",
    "\n",
    "# set the parallelization parameter `max_concurrent_searches` for the Rank Evaluation API calls\n",
    "max_concurrent_searches = 30"
   ]
  },
  {
   "cell_type": "markdown",
   "metadata": {},
   "source": [
    "## Starting point: cross_fields\n",
    "\n",
    "Let's quickly review the steps we made in the \"Query Tuning\" notebook. We first used a `multi_match` `cross_fields` query which searches for terms across the `url`, `title` and `body` fields of our documents. We set the parameters to their defualt values and found an MRR@100 of about `0.248`.\n",
    "\n",
    "Next we optimized all of the parameters trying both stepwise and then all-in-one using Bayesian optimization. We evaluated again and found an MRR@100 of about `0.296`, which is quite a decent improvement over the baseline with default parameters.\n",
    "\n",
    "Below are the optimial parameters that we found, and we'll reuse them in this notebook. Since we'll have multiple queries and sometimes the parameter names will be the same, we'll namespace them and prefix the names with `multi_match|cross_fields|`."
   ]
  },
  {
   "cell_type": "code",
   "execution_count": 7,
   "metadata": {},
   "outputs": [],
   "source": [
    "cross_fields_params = {\n",
    "    'multi_match|cross_fields|operator': 'OR',\n",
    "    'multi_match|cross_fields|minimum_should_match': 40,\n",
    "    'multi_match|cross_fields|tie_breaker': 0.2956536905591155,\n",
    "    'multi_match|cross_fields|url|boost': 1.03035723802844,\n",
    "    'multi_match|cross_fields|title|boost': 10.0,\n",
    "    'multi_match|cross_fields|body|boost': 6.270734180132099,\n",
    "}"
   ]
  },
  {
   "cell_type": "markdown",
   "metadata": {},
   "source": [
    "## Alternative query: best_fields\n",
    "\n",
    "The first query type we used was a `multi_match` `cross_fields` query. This searches for query terms individually across each of the three document fields. For example, given a query string \"impact of the success of the manhattan project\", we search for each of the query terms in each of the fields. So we could have \"impact\" matching the body only, while \"manhattan\" could match all three fields. Due to the nature of the queries which are all questions, this might not be the best query type to use.\n",
    "\n",
    "In this step, we're going to try using [the `multi_match` query of type `best_fields`](https://www.elastic.co/guide/en/elasticsearch/reference/current/query-dsl-multi-match-query.html#type-best-fields). This variant will look across fields but will only return the field and score with the best matches. We will also experiment in this query with modifying a few parameters of the query that are sometimes hard to guess at. Specifically, we'll explore which field boosts to use for each of our three fields and also which `tie_breaker` parameter to use.\n",
    "\n",
    "Here's the baseline query with default parameter values."
   ]
  },
  {
   "cell_type": "code",
   "execution_count": 10,
   "metadata": {},
   "outputs": [
    {
     "name": "stdout",
     "output_type": "stream",
     "text": [
      "Score: 0.2799\n",
      "CPU times: user 2 s, sys: 609 ms, total: 2.61 s\n",
      "Wall time: 41.9 s\n"
     ]
    }
   ],
   "source": [
    "%%time\n",
    "\n",
    "_ = evaluate_mrr100_dev(es, max_concurrent_searches,\n",
    "    template_id='best_fields',\n",
    "    params={\n",
    "        'tie_breaker': 0.0,\n",
    "        'url|boost': 1.0,\n",
    "        'title|boost': 1.0,\n",
    "        'body|boost': 1.0,\n",
    "    })"
   ]
  },
  {
   "cell_type": "markdown",
   "metadata": {},
   "source": [
    "That's pretty impressive for the baseline query. It beats our baseline `cross_fields` query, but not quite the optimized one.\n",
    "\n",
    "Let's try and optimize this `best_fields` query now. We'll put all the parameters into a single large parameter space and use Bayesian optimization again to find the optimal parameters."
   ]
  },
  {
   "cell_type": "code",
   "execution_count": null,
   "metadata": {},
   "outputs": [
    {
     "name": "stdout",
     "output_type": "stream",
     "text": [
      "Optimizing parameters\n",
      " - iteration 1 scored 0.1984 with: {'tie_breaker': 0.835838815676778, 'url|boost': 2.1391555484465115, 'title|boost': 5.936928134478353, 'body|boost': 0.3575464234918591}\n",
      " - iteration 2 scored 0.2216 with: {'tie_breaker': 0.19602557614706223, 'url|boost': 1.6274001250661898, 'title|boost': 7.0026441707216165, 'body|boost': 1.9315136389573557}\n",
      " - iteration 3 scored 0.2130 with: {'tie_breaker': 0.08468148306233948, 'url|boost': 2.830814282996708, 'title|boost': 4.762862153679114, 'body|boost': 0.3827282100351626}\n",
      " - iteration 4 scored 0.1745 with: {'tie_breaker': 0.9201958324424367, 'url|boost': 8.066784849357466, 'title|boost': 6.824341099584542, 'body|boost': 2.6312453869077395}\n",
      " - iteration 5 scored 0.2219 with: {'tie_breaker': 0.0028070460397922052, 'url|boost': 7.222439197401668, 'title|boost': 5.587857721081876, 'body|boost': 5.352059296430413}\n",
      " - iteration 6 scored 0.1901 with: {'tie_breaker': 0.8481483243709104, 'url|boost': 5.675405086773165, 'title|boost': 0.42554228794549626, 'body|boost': 3.837209769748786}\n",
      " - iteration 7 scored 0.1978 with: {'tie_breaker': 0.4353035849321111, 'url|boost': 6.61807131710826, 'title|boost': 1.2327538980264376, 'body|boost': 4.610715485695678}\n",
      " - iteration 8 scored 0.1435 with: {'tie_breaker': 0.6914959118918161, 'url|boost': 8.954154182356874, 'title|boost': 0.2224641485565804, 'body|boost': 0.6969651305380254}\n",
      " - iteration 9 scored 0.2079 with: {'tie_breaker': 0.33106007826788747, 'url|boost': 4.29494902326613, 'title|boost': 7.806616871668421, 'body|boost': 0.7095529318287487}\n",
      " - iteration 10 scored 0.2412 with: {'tie_breaker': 0.4711924397957019, 'url|boost': 1.55260627170293, 'title|boost': 7.509557940402358, 'body|boost': 4.198139087072436}\n",
      " - iteration 11 scored 0.2414 with: {'tie_breaker': 0.057716735328947694, 'url|boost': 2.0251251225978604, 'title|boost': 9.923157809039765, 'body|boost': 6.469649922070932}\n",
      " - iteration 12 scored 0.2538 with: {'tie_breaker': 0.835404111464068, 'url|boost': 0.0, 'title|boost': 10.0, 'body|boost': 7.64393202095052}\n",
      " - iteration 13 scored 0.2702 with: {'tie_breaker': 0.7180947191324675, 'url|boost': 0.0, 'title|boost': 3.5272087011721713, 'body|boost': 10.0}\n",
      " - iteration 14 scored 0.2220 with: {'tie_breaker': 0.0, 'url|boost': 0.0, 'title|boost': 0.0, 'body|boost': 10.0}\n",
      " - iteration 15 scored 0.2691 with: {'tie_breaker': 0.5188660641518129, 'url|boost': 0.0, 'title|boost': 10.0, 'body|boost': 10.0}\n",
      " - iteration 16 scored 0.2627 with: {'tie_breaker': 0.6085057119535772, 'url|boost': 3.0959034672521195, 'title|boost': 10.0, 'body|boost': 10.0}\n",
      " - iteration 17 scored 0.2220 with: {'tie_breaker': 1.0, 'url|boost': 0.0, 'title|boost': 0.0, 'body|boost': 10.0}\n",
      " - iteration 18 scored 0.2669 with: {'tie_breaker': 0.6696115757122417, 'url|boost': 0.0, 'title|boost': 10.0, 'body|boost': 10.0}\n",
      " - iteration 19 scored 0.2727 with: {'tie_breaker': 0.5549766805805587, 'url|boost': 0.6399491038372523, 'title|boost': 6.126018828798231, 'body|boost': 10.0}\n",
      " - iteration 20 scored 0.2220 with: {'tie_breaker': 0.5501833946654904, 'url|boost': 0.0, 'title|boost': 0.0, 'body|boost': 10.0}\n",
      " - iteration 21 scored 0.2227 with: {'tie_breaker': 0.0, 'url|boost': 0.0, 'title|boost': 5.226937392797964, 'body|boost': 8.415487445310017}\n",
      " - iteration 22 scored 0.2712 with: {'tie_breaker': 1.0, 'url|boost': 0.0, 'title|boost': 5.844154827946867, 'body|boost': 10.0}\n",
      " - iteration 23 scored 0.2398 with: {'tie_breaker': 0.0, 'url|boost': 10.0, 'title|boost': 10.0, 'body|boost': 10.0}\n"
     ]
    }
   ],
   "source": [
    "%%time\n",
    "\n",
    "_, _, final_params_best_fields, metadata_best_fields = optimize_query_mrr100(es, max_concurrent_searches,\n",
    "    template_id='best_fields',\n",
    "    config_space=Config.parse({\n",
    "        'num_iterations': 50,\n",
    "        'num_initial_points': 10,\n",
    "        'space': {\n",
    "            'tie_breaker': { 'low': 0.0, 'high': 1.0 },\n",
    "            'url|boost': { 'low': 0.0, 'high': 10.0 },\n",
    "            'title|boost': { 'low': 0.0, 'high': 10.0 },\n",
    "            'body|boost': { 'low': 0.0, 'high': 10.0 },\n",
    "        },\n",
    "    }))"
   ]
  },
  {
   "cell_type": "code",
   "execution_count": null,
   "metadata": {},
   "outputs": [],
   "source": [
    "%%time\n",
    "\n",
    "_ = evaluate_mrr100_dev(es, max_concurrent_searches, template_id='best_fields', params=best_params_best_fields)"
   ]
  },
  {
   "cell_type": "code",
   "execution_count": null,
   "metadata": {},
   "outputs": [],
   "source": [
    "_ = plot_objective(metadata_best_fields, sample_source='result')"
   ]
  },
  {
   "cell_type": "code",
   "execution_count": null,
   "metadata": {},
   "outputs": [],
   "source": []
  },
  {
   "cell_type": "code",
   "execution_count": null,
   "metadata": {},
   "outputs": [],
   "source": []
  },
  {
   "cell_type": "code",
   "execution_count": null,
   "metadata": {},
   "outputs": [],
   "source": []
  },
  {
   "cell_type": "markdown",
   "metadata": {},
   "source": [
    "Interesting that the best weights are almost equal across the fields. This starts to explain how the baseline query with all weights equal was so good. Let's run the evaluation with just the tuned weights to see how much we improve over the baseline."
   ]
  },
  {
   "cell_type": "code",
   "execution_count": 28,
   "metadata": {},
   "outputs": [
    {
     "name": "stdout",
     "output_type": "stream",
     "text": [
      "Score: 0.2865\n",
      "CPU times: user 2.33 s, sys: 1.25 s, total: 3.58 s\n",
      "Wall time: 1min 18s\n"
     ]
    }
   ],
   "source": [
    "%%time\n",
    "\n",
    "results = evaluate_mrr100_dev(es, template_id='best_fields', params=final_params_1)"
   ]
  },
  {
   "cell_type": "markdown",
   "metadata": {},
   "source": [
    "Ok, so we have some progress, albeit not very much. Let's continue and try optimizing the last parameters of this query to see if we get a bigger boost.\n",
    "\n",
    "We can now take the best parameters found for the field weights, set them as constants or `default` values for the template, and just focus the next optimization on picking the last parameters.\n",
    "\n",
    "Since we have a pretty small search space with just a few possible values per pameter, if we just give sequences, the optimizer will actually choose a grid search here and test every possible combination of the two parameters."
   ]
  },
  {
   "cell_type": "code",
   "execution_count": 35,
   "metadata": {},
   "outputs": [
    {
     "name": "stdout",
     "output_type": "stream",
     "text": [
      "Optimizing parameters\n",
      " - iteration 1 scored 0.2494 with: {'minimum_should_match': 1, 'operator': 'OR'}\n",
      " - iteration 2 scored 0.0000 with: {'minimum_should_match': 1, 'operator': 'AND'}\n",
      " - iteration 3 scored 0.2354 with: {'minimum_should_match': 2, 'operator': 'OR'}\n",
      " - iteration 4 scored 0.0000 with: {'minimum_should_match': 2, 'operator': 'AND'}\n",
      " - iteration 5 scored 0.1981 with: {'minimum_should_match': 3, 'operator': 'OR'}\n",
      " - iteration 6 scored 0.0000 with: {'minimum_should_match': 3, 'operator': 'AND'}\n",
      " - iteration 7 scored 0.1389 with: {'minimum_should_match': 4, 'operator': 'OR'}\n",
      " - iteration 8 scored 0.0000 with: {'minimum_should_match': 4, 'operator': 'AND'}\n",
      " - iteration 9 scored 0.0828 with: {'minimum_should_match': 5, 'operator': 'OR'}\n",
      " - iteration 10 scored 0.0000 with: {'minimum_should_match': 5, 'operator': 'AND'}\n",
      "Best score: 0.2494\n",
      "Best params: {'minimum_should_match': 1, 'operator': 'OR'}\n",
      "Final params: {'url|weight': 9.682062830345467, 'title|weight': 10.0, 'body|weight': 8.74596983435219, 'minimum_should_match': 1, 'operator': 'OR'}\n",
      "\n",
      "CPU times: user 2.59 s, sys: 1.27 s, total: 3.86 s\n",
      "Wall time: 3min 21s\n"
     ]
    }
   ],
   "source": [
    "%%time\n",
    "\n",
    "best_score_2, best_params_2, final_params_2, metadata_2 = optimize_query_mrr100(es,\n",
    "    template_id='best_fields',\n",
    "    config_space=Config.parse({\n",
    "        'num_iterations': 50,\n",
    "        'num_initial_points': 10,\n",
    "        'space': {\n",
    "            'operator': ['OR', 'AND'],\n",
    "            'minimum_should_match': [1, 2, 3, 4, 5],\n",
    "        },\n",
    "        'default': best_params_1\n",
    "    }),\n",
    "    verbose=True)"
   ]
  },
  {
   "cell_type": "markdown",
   "metadata": {},
   "source": [
    "Even after trying a bunch of options, it turns out that the defaults for `operator` and `minimum_should_match` are actually the best! Even though we didn't find better values, we did learn something in the process.\n",
    "\n",
    "We now don't need to do another evaluation since there was no change after tuning these last two operators."
   ]
  },
  {
   "cell_type": "markdown",
   "metadata": {},
   "source": [
    "## Combining queries\n",
    "\n",
    "We've seen the process to optimize field weights on two different `multi_match` queries but it would be interesting to see if combining them with in a parent `bool` query might actually result in even better MRR@100. Let's give it a shot and find out.\n",
    "\n",
    "We'll combine the two queries by using a `bool` query with a `should` clause. That means that we don't require both queries to match documents, but we will combine the scores when they do. Using the `combined` template, we can use the previously discovered optimal field weights, and add some new parameters for query `boost`s to decide how we should combine these two queries.\n",
    "\n",
    "Side note: Combining queries in this way may improve relevance as measured by MRR@100, but it will hurt performance and the query times will be quite a lot higher than with a single, simpler query. Keep this in mind when building complex queries for production!\n",
    "\n",
    "Here's the baselines that we'll compare against when trying to combine these queries in an optimal way. First a combined query with all parameters default values, and second a combined query using the optimal field weights previously found."
   ]
  },
  {
   "cell_type": "code",
   "execution_count": 57,
   "metadata": {},
   "outputs": [
    {
     "name": "stdout",
     "output_type": "stream",
     "text": [
      "Score: 0.2798\n",
      "CPU times: user 5.01 s, sys: 1.66 s, total: 6.66 s\n",
      "Wall time: 6min 52s\n"
     ]
    }
   ],
   "source": [
    "%%time\n",
    "\n",
    "results = evaluate_mrr100_dev(es,\n",
    "    template_id='combined',\n",
    "    params={\n",
    "        # default weights\n",
    "        'multi_match|cross_fields|url|weight': 1.0,\n",
    "        'multi_match|cross_fields|title|weight': 1.0,\n",
    "        'multi_match|cross_fields|body|weight': 1.0,\n",
    "        'multi_match|best_fields|url|weight': 1.0,\n",
    "        'multi_match|best_fields|title|weight': 1.0,\n",
    "        'multi_match|best_fields|body|weight': 1.0,\n",
    "        # default boosts\n",
    "        'multi_match|cross_fields|boost': 1.0,\n",
    "        'multi_match|best_fields|boost': 1.0,\n",
    "    })"
   ]
  },
  {
   "cell_type": "markdown",
   "metadata": {},
   "source": [
    "Not bad, but I think we can do better by using the optimal field weights."
   ]
  },
  {
   "cell_type": "code",
   "execution_count": 16,
   "metadata": {},
   "outputs": [
    {
     "name": "stdout",
     "output_type": "stream",
     "text": [
      "Score: 0.3027\n",
      "CPU times: user 4.77 s, sys: 1.62 s, total: 6.4 s\n",
      "Wall time: 6min 8s\n"
     ]
    }
   ],
   "source": [
    "%%time\n",
    "\n",
    "# BM25 params from default ES\n",
    "set_bm25_parameters(es, 'msmarco-document', **{'k1': 1.2, 'b': 0.75})\n",
    "\n",
    "results = evaluate_mrr100_dev(es,\n",
    "    template_id='combined',\n",
    "    params={\n",
    "        # optimal weights\n",
    "        'multi_match|cross_fields|url|weight': 10.0,\n",
    "        'multi_match|cross_fields|title|weight': 10.0,\n",
    "        'multi_match|cross_fields|body|weight': 5.17,\n",
    "        'multi_match|best_fields|url|weight': 9.682,\n",
    "        'multi_match|best_fields|title|weight': 10.0,\n",
    "        'multi_match|best_fields|body|weight': 8.746,\n",
    "        # default boosts\n",
    "        'multi_match|cross_fields|boost': 1.0,\n",
    "        'multi_match|best_fields|boost': 1.0,\n",
    "    })"
   ]
  },
  {
   "cell_type": "code",
   "execution_count": 15,
   "metadata": {},
   "outputs": [
    {
     "name": "stdout",
     "output_type": "stream",
     "text": [
      "Score: 0.2728\n",
      "CPU times: user 3.79 s, sys: 1.01 s, total: 4.79 s\n",
      "Wall time: 6min 21s\n"
     ]
    }
   ],
   "source": [
    "%%time\n",
    "\n",
    "# BM25 params from cross_fields\n",
    "set_bm25_parameters(es, 'msmarco-document', **best_params_a)\n",
    "\n",
    "results = evaluate_mrr100_dev(es,\n",
    "    template_id='combined',\n",
    "    params={\n",
    "        # optimal weights\n",
    "        'multi_match|cross_fields|url|weight': 10.0,\n",
    "        'multi_match|cross_fields|title|weight': 10.0,\n",
    "        'multi_match|cross_fields|body|weight': 5.17,\n",
    "        'multi_match|best_fields|url|weight': 9.682,\n",
    "        'multi_match|best_fields|title|weight': 10.0,\n",
    "        'multi_match|best_fields|body|weight': 8.746,\n",
    "        # default boosts\n",
    "        'multi_match|cross_fields|boost': 1.0,\n",
    "        'multi_match|best_fields|boost': 1.0,\n",
    "    })"
   ]
  },
  {
   "cell_type": "code",
   "execution_count": 14,
   "metadata": {},
   "outputs": [
    {
     "name": "stdout",
     "output_type": "stream",
     "text": [
      "Score: 0.3011\n",
      "CPU times: user 4.25 s, sys: 1.36 s, total: 5.61 s\n",
      "Wall time: 5min 32s\n"
     ]
    }
   ],
   "source": [
    "%%time\n",
    "\n",
    "# BM25 params from best_fields\n",
    "set_bm25_parameters(es, 'msmarco-document', **best_params_0)\n",
    "\n",
    "results = evaluate_mrr100_dev(es,\n",
    "    template_id='combined',\n",
    "    params={\n",
    "        # optimal weights\n",
    "        'multi_match|cross_fields|url|weight': 10.0,\n",
    "        'multi_match|cross_fields|title|weight': 10.0,\n",
    "        'multi_match|cross_fields|body|weight': 5.17,\n",
    "        'multi_match|best_fields|url|weight': 9.682,\n",
    "        'multi_match|best_fields|title|weight': 10.0,\n",
    "        'multi_match|best_fields|body|weight': 8.746,\n",
    "        # default boosts\n",
    "        'multi_match|cross_fields|boost': 1.0,\n",
    "        'multi_match|best_fields|boost': 1.0,\n",
    "    })"
   ]
  },
  {
   "cell_type": "markdown",
   "metadata": {},
   "source": [
    "That's already quite a better than either the `cross_fields` or `best_fields` queries on their own.\n",
    "\n",
    "As before, let's continue and see if there is an improvement by tuning the boosts on each query. We've got a smaller parameter space to search over, so we'll specify running fewer iterations than before since these queries run a lot slower."
   ]
  },
  {
   "cell_type": "code",
   "execution_count": 69,
   "metadata": {},
   "outputs": [
    {
     "name": "stdout",
     "output_type": "stream",
     "text": [
      "Optimizing parameters\n",
      " - iteration 1 scored 0.2725 with: {'multi_match|cross_fields|boost': 2.547577325223018, 'multi_match|best_fields|boost': 0.5471916531942151}\n",
      " - iteration 2 scored 0.2694 with: {'multi_match|cross_fields|boost': 2.6798639019055748, 'multi_match|best_fields|boost': 1.633720712857639}\n",
      " - iteration 3 scored 0.2683 with: {'multi_match|cross_fields|boost': 3.2768751918169867, 'multi_match|best_fields|boost': 3.2879218237613235}\n",
      " - iteration 4 scored 0.2551 with: {'multi_match|cross_fields|boost': 0.7909425127149035, 'multi_match|best_fields|boost': 4.947870579130785}\n",
      " - iteration 5 scored 0.2697 with: {'multi_match|cross_fields|boost': 2.8534793222286603, 'multi_match|best_fields|boost': 1.4987177123346775}\n",
      " - iteration 6 scored 0.2517 with: {'multi_match|cross_fields|boost': 5.0, 'multi_match|best_fields|boost': 0.0}\n",
      " - iteration 7 scored 0.2517 with: {'multi_match|cross_fields|boost': 1.3248474705567896, 'multi_match|best_fields|boost': 0.0}\n",
      " - iteration 8 scored 0.2719 with: {'multi_match|cross_fields|boost': 2.386340709847591, 'multi_match|best_fields|boost': 0.7999703261879847}\n",
      " - iteration 9 scored 0.2685 with: {'multi_match|cross_fields|boost': 3.1806132954369892, 'multi_match|best_fields|boost': 2.6708021653936114}\n",
      " - iteration 10 scored 0.2680 with: {'multi_match|cross_fields|boost': 3.800755324045408, 'multi_match|best_fields|boost': 3.8796115108619658}\n",
      " - iteration 11 scored 0.2517 with: {'multi_match|cross_fields|boost': 3.5343215899332003, 'multi_match|best_fields|boost': 0.0}\n",
      " - iteration 12 scored 0.2534 with: {'multi_match|cross_fields|boost': 0.19391306322175592, 'multi_match|best_fields|boost': 2.1853243372704165}\n",
      " - iteration 13 scored 0.2695 with: {'multi_match|cross_fields|boost': 4.431151892900113, 'multi_match|best_fields|boost': 2.961681318482838}\n",
      " - iteration 14 scored 0.2711 with: {'multi_match|cross_fields|boost': 4.140405625014104, 'multi_match|best_fields|boost': 1.123968704498692}\n",
      " - iteration 15 scored 0.2514 with: {'multi_match|cross_fields|boost': 0.20188777205695246, 'multi_match|best_fields|boost': 4.289904507472982}\n",
      " - iteration 16 scored 0.2515 with: {'multi_match|cross_fields|boost': 0.1867178371689079, 'multi_match|best_fields|boost': 3.6033608657765965}\n",
      " - iteration 17 scored 0.2657 with: {'multi_match|cross_fields|boost': 4.161691990446297, 'multi_match|best_fields|boost': 5.0}\n",
      " - iteration 18 scored 0.2614 with: {'multi_match|cross_fields|boost': 2.989022232081078, 'multi_match|best_fields|boost': 5.0}\n",
      " - iteration 19 scored 0.2586 with: {'multi_match|cross_fields|boost': 1.958434103907053, 'multi_match|best_fields|boost': 5.0}\n",
      " - iteration 20 scored 0.2683 with: {'multi_match|cross_fields|boost': 5.0, 'multi_match|best_fields|boost': 5.0}\n",
      " - iteration 21 scored 0.2702 with: {'multi_match|cross_fields|boost': 5.0, 'multi_match|best_fields|boost': 2.0064923213523302}\n",
      " - iteration 22 scored 0.2683 with: {'multi_match|cross_fields|boost': 5.0, 'multi_match|best_fields|boost': 0.7018505371393546}\n",
      " - iteration 23 scored 0.2681 with: {'multi_match|cross_fields|boost': 5.0, 'multi_match|best_fields|boost': 4.358464073102425}\n",
      " - iteration 24 scored 0.2517 with: {'multi_match|cross_fields|boost': 0.04506485827066263, 'multi_match|best_fields|boost': 0.7158095889368385}\n",
      " - iteration 25 scored 0.2691 with: {'multi_match|cross_fields|boost': 5.0, 'multi_match|best_fields|boost': 3.5786282054630476}\n",
      " - iteration 26 scored 0.2729 with: {'multi_match|cross_fields|boost': 4.9818012157970495, 'multi_match|best_fields|boost': 1.487097195975832}\n",
      " - iteration 27 scored 0.2694 with: {'multi_match|cross_fields|boost': 3.460508692917358, 'multi_match|best_fields|boost': 2.1064748378953246}\n",
      " - iteration 28 scored 0.2724 with: {'multi_match|cross_fields|boost': 3.2922224905717763, 'multi_match|best_fields|boost': 0.704597779321483}\n",
      " - iteration 29 scored 0.2704 with: {'multi_match|cross_fields|boost': 4.970125522393313, 'multi_match|best_fields|boost': 2.5263096426995113}\n",
      " - iteration 30 scored 0.2622 with: {'multi_match|cross_fields|boost': 2.7709770886645755, 'multi_match|best_fields|boost': 4.383669719440571}\n",
      "Best score: 0.2729\n",
      "Best params: {'multi_match|cross_fields|boost': 4.9818012157970495, 'multi_match|best_fields|boost': 1.487097195975832}\n",
      "Final params: {'multi_match|cross_fields|url|weight': 10.0, 'multi_match|cross_fields|title|weight': 10.0, 'multi_match|cross_fields|body|weight': 5.17, 'multi_match|best_fields|url|weight': 9.682, 'multi_match|best_fields|title|weight': 10.0, 'multi_match|best_fields|body|weight': 8.746, 'multi_match|cross_fields|boost': 4.9818012157970495, 'multi_match|best_fields|boost': 1.487097195975832}\n",
      "\n",
      "CPU times: user 45.6 s, sys: 9.56 s, total: 55.2 s\n",
      "Wall time: 55min 58s\n"
     ]
    }
   ],
   "source": [
    "%%time\n",
    "\n",
    "best_score_3, best_params_3, final_params_3, metadata_3 = optimize_query_mrr100(es,\n",
    "    template_id='combined',\n",
    "    config_space=Config.parse({\n",
    "        'num_iterations': 30,\n",
    "        'num_initial_points': 5,\n",
    "        'space': {\n",
    "            'multi_match|cross_fields|boost': { 'low': 0.0, 'high': 5.0 },\n",
    "            'multi_match|best_fields|boost': { 'low': 0.0, 'high': 5.0 },\n",
    "        },\n",
    "        'default': {\n",
    "            'multi_match|cross_fields|url|weight': 10.0,\n",
    "            'multi_match|cross_fields|title|weight': 10.0,\n",
    "            'multi_match|cross_fields|body|weight': 5.17,\n",
    "            'multi_match|best_fields|url|weight': 9.682,\n",
    "            'multi_match|best_fields|title|weight': 10.0,\n",
    "            'multi_match|best_fields|body|weight': 8.746,\n",
    "        },\n",
    "    }),\n",
    "    verbose=True)"
   ]
  },
  {
   "cell_type": "code",
   "execution_count": 70,
   "metadata": {},
   "outputs": [
    {
     "data": {
      "image/png": "[encoded data removed]",
      "text/plain": [
       "<Figure size 288x288 with 4 Axes>"
      ]
     },
     "metadata": {
      "needs_background": "light"
     },
     "output_type": "display_data"
    }
   ],
   "source": [
    "_ = plot_objective(metadata_3, sample_source='result')"
   ]
  },
  {
   "cell_type": "code",
   "execution_count": 71,
   "metadata": {},
   "outputs": [
    {
     "name": "stdout",
     "output_type": "stream",
     "text": [
      "Score: 0.2930\n",
      "CPU times: user 3.76 s, sys: 1.85 s, total: 5.62 s\n",
      "Wall time: 13min 24s\n"
     ]
    }
   ],
   "source": [
    "%%time\n",
    "\n",
    "results = evaluate_mrr100_dev(es, template_id='combined', params=final_params_3)"
   ]
  },
  {
   "cell_type": "code",
   "execution_count": null,
   "metadata": {},
   "outputs": [],
   "source": []
  },
  {
   "cell_type": "code",
   "execution_count": null,
   "metadata": {},
   "outputs": [],
   "source": []
  },
  {
   "cell_type": "markdown",
   "metadata": {},
   "source": [
    "So that's kind of odd. We couldn't actually find boost parameters that were better than the defaults `1.0`. I wonder what's going on here. Let's break this down and see if we can figure it out.\n",
    "\n",
    "The first thing to note "
   ]
  },
  {
   "cell_type": "code",
   "execution_count": null,
   "metadata": {},
   "outputs": [],
   "source": []
  },
  {
   "cell_type": "code",
   "execution_count": null,
   "metadata": {},
   "outputs": [],
   "source": []
  },
  {
   "cell_type": "code",
   "execution_count": 65,
   "metadata": {},
   "outputs": [],
   "source": [
    "def collect_scores_cross_fields(query_string):\n",
    "    res = es.search(index='msmarco-document', size=100, body={ \"query\": {\n",
    "        \"multi_match\": {\n",
    "            \"type\": \"cross_fields\",\n",
    "            \"query\": query_string,\n",
    "            \"fields\": [\n",
    "                \"url^10.0\",\n",
    "                \"title^10.0\",\n",
    "               \"body^5.17\"\n",
    "            ],\n",
    "            \"operator\": \"OR\",\n",
    "            \"boost\": \"1.0\"\n",
    "      }\n",
    "    }})\n",
    "    return [hit['_score'] for hit in res['hits']['hits']]\n",
    "\n",
    "def collect_scores_best_fields(query_string):\n",
    "    res = es.search(index='msmarco-document', size=100, body={ \"query\": {\n",
    "        \"multi_match\": {\n",
    "            \"type\": \"best_fields\",\n",
    "            \"query\": query_string,\n",
    "            \"fields\": [\n",
    "                \"url^9.682\",\n",
    "                \"title^10.0\",\n",
    "               \"body^8.746\"\n",
    "            ],\n",
    "            \"operator\": \"OR\",\n",
    "            \"boost\": \"1.0\"\n",
    "      }\n",
    "    }})\n",
    "    return [hit['_score'] for hit in res['hits']['hits']]\n",
    "\n",
    "def collect_scores(queries):\n",
    "    cross_field_scores = []\n",
    "    best_field_scores = []\n",
    "\n",
    "    for query in list(queries):\n",
    "        cfs = collect_scores_cross_fields(query[1])\n",
    "        bfs = collect_scores_best_fields(query[1])\n",
    "        \n",
    "        # keep just n scores to make sure the lists are the same length\n",
    "        length = min(len(cfs), len(bfs))\n",
    "        cross_field_scores.append(cfs[:length])\n",
    "        best_field_scores.append(bfs[:length])\n",
    "\n",
    "    return cross_field_scores, best_field_scores"
   ]
  },
  {
   "cell_type": "code",
   "execution_count": 66,
   "metadata": {},
   "outputs": [],
   "source": [
    "from qopt.trec import load_queries_as_tuple\n",
    "from qopt.notebooks import ROOT_DIR\n",
    "\n",
    "queries = load_queries_as_tuple(os.path.join(ROOT_DIR, 'data', 'msmarco-document-sampled-queries.1000.tsv'))\n",
    "cfs, bfs = collect_scores(queries)"
   ]
  },
  {
   "cell_type": "code",
   "execution_count": 67,
   "metadata": {},
   "outputs": [],
   "source": [
    "from itertools import chain\n",
    "\n",
    "cfs_flat = list(chain(*cfs))\n",
    "bfs_flat = list(chain(*bfs))"
   ]
  },
  {
   "cell_type": "code",
   "execution_count": 68,
   "metadata": {},
   "outputs": [
    {
     "data": {
      "image/png": "[encoded data removed]",
      "text/plain": [
       "<Figure size 432x288 with 1 Axes>"
      ]
     },
     "metadata": {
      "needs_background": "light"
     },
     "output_type": "display_data"
    }
   ],
   "source": [
    "import matplotlib.pyplot as plt\n",
    "plt.scatter(cfs_flat, bfs_flat)\n",
    "plt.show()"
   ]
  },
  {
   "cell_type": "code",
   "execution_count": null,
   "metadata": {},
   "outputs": [],
   "source": []
  },
  {
   "cell_type": "code",
   "execution_count": null,
   "metadata": {},
   "outputs": [],
   "source": []
  }
 ],
 "metadata": {
  "kernelspec": {
   "display_name": "Python 3",
   "language": "python",
   "name": "python3"
  },
  "language_info": {
   "codemirror_mode": {
    "name": "ipython",
    "version": 3
   },
   "file_extension": ".py",
   "mimetype": "text/x-python",
   "name": "python",
   "nbconvert_exporter": "python",
   "pygments_lexer": "ipython3",
   "version": "3.7.7"
  }
 },
 "nbformat": 4,
 "nbformat_minor": 4
}

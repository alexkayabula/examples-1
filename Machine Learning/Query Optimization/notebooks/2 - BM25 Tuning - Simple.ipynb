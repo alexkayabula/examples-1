{
 "cells": [
  {
   "cell_type": "markdown",
   "metadata": {},
   "source": [
    "# Tuning BM25 parameters on the MSMARCO Document dataset\n",
    "\n",
    "The following shows a principled, data-driven approach to tuning BM25 parameters with a basic query, using the MSMARCO Document dataset. This assumes familiarity with basic query tuning as shown in the \"Query Tuning\" notebooks.\n",
    "\n",
    "BM25 contains two parameters `k1` and `b`. Roughly speaking (very roughly), `k1` controls the amount of term saturation (at some point, more terms does not mean more relevant) and `b` controls the importance of document length. A deeper look into these parameters is beyond the scope of this notebook, but our [three part blog series on understanding BM25](https://www.elastic.co/blog/practical-bm25-part-1-how-shards-affect-relevance-scoring-in-elasticsearch) is very useful for that."
   ]
  },
  {
   "cell_type": "code",
   "execution_count": 1,
   "metadata": {},
   "outputs": [],
   "source": [
    "%load_ext autoreload\n",
    "%autoreload 2"
   ]
  },
  {
   "cell_type": "code",
   "execution_count": 2,
   "metadata": {},
   "outputs": [],
   "source": [
    "import importlib\n",
    "import os\n",
    "import sys\n",
    "\n",
    "from elasticsearch import Elasticsearch\n",
    "from skopt.plots import plot_objective"
   ]
  },
  {
   "cell_type": "code",
   "execution_count": 3,
   "metadata": {},
   "outputs": [],
   "source": [
    "# project library\n",
    "sys.path.insert(0, os.path.abspath('..'))\n",
    "\n",
    "import qopt\n",
    "importlib.reload(qopt)\n",
    "\n",
    "from qopt.notebooks import evaluate_mrr100_dev, optimize_bm25_mrr100\n",
    "from qopt.optimize import Config, set_bm25_parameters"
   ]
  },
  {
   "cell_type": "code",
   "execution_count": 4,
   "metadata": {},
   "outputs": [],
   "source": [
    "# use a local Elasticsearch or Cloud instance (https://cloud.elastic.co/)\n",
    "# es = Elasticsearch('http://localhost:9200')\n",
    "es = Elasticsearch('http://35.234.93.126:9200')\n",
    "\n",
    "# set the parallelization parameter `max_concurrent_searches` for the Rank Evaluation API calls\n",
    "max_concurrent_searches = 30\n",
    "\n",
    "# default Elasticsearch BM25 params\n",
    "default_bm25_params = {'k1': 1.2, 'b': 0.75}\n",
    "\n",
    "# default query params for cross_fields\n",
    "query_params = {\n",
    "    'operator': 'OR',\n",
    "    'minimum_should_match': 50,  # in percent/%\n",
    "    'tie_breaker': 0.0,\n",
    "    'url|boost': 1.0,\n",
    "    'title|boost': 1.0,\n",
    "    'body|boost': 1.0,\n",
    "}"
   ]
  },
  {
   "cell_type": "markdown",
   "metadata": {},
   "source": [
    "## Baseline evaluation\n",
    "\n",
    "For tuning the BM25 parameters, we're going to reuse [the `multi_match` query of type `cross_fields`](https://www.elastic.co/guide/en/elasticsearch/reference/current/query-dsl-multi-match-query.html#type-cross-fields) that we saw in the \"Query Tuning\" notebook. It will search for query terms across the `url`, `title`, and `body` fields, and we'll be attempting to optimize the BM25 parameters that are used in the scoring function for each field. In theory, each field could have it's own BM25 [similarty](https://www.elastic.co/guide/en/elasticsearch/reference/current/index-modules-similarity.html#bm25) and parameters, but we'll leave that as an exercise to the reader.\n",
    "\n",
    "Since BM25 parameters are actually index settings in Elasticsearch (they are theoretically query parameters, but they are implemented as index settings to be consistent with other similarity modules), we need to make sure to set the parameters before any evaluation step. At optimization time, we'lll do the same process: set the BM25 parameters to try, then run the rank evaluation API on the training query dataset."
   ]
  },
  {
   "cell_type": "code",
   "execution_count": 5,
   "metadata": {},
   "outputs": [
    {
     "name": "stdout",
     "output_type": "stream",
     "text": [
      "Score: 0.2669\n",
      "CPU times: user 3.53 s, sys: 954 ms, total: 4.49 s\n",
      "Wall time: 1min 14s\n"
     ]
    }
   ],
   "source": [
    "%%time\n",
    "\n",
    "set_bm25_parameters(es, 'msmarco-document', **default_bm25_params)\n",
    "\n",
    "_ = evaluate_mrr100_dev(es, max_concurrent_searches, 'cross_fields', query_params)"
   ]
  },
  {
   "cell_type": "markdown",
   "metadata": {},
   "source": [
    "That's the same baseline that we've seen in the \"Query Tuning\" notebook, so we know we're setup correctly."
   ]
  },
  {
   "cell_type": "markdown",
   "metadata": {},
   "source": [
    "## Optimization\n",
    "\n",
    "Now we're ready to run the optimization procedure and see if we can improve on that, while holding the default query parameters constant.\n",
    "\n",
    "We know that there's roughly a standard range for each parameter, so we've hardcoded those. We don't show all the code details here, but you can have a look in the corresponding Python module files for more details. Here's the pertinent details for our parameter space:\n",
    "\n",
    "* `k1`: `0.5` to `5.0`\n",
    "* `b`: `0.3` to `1.0`\n",
    "* number of iterations: `50`\n",
    "* number of initial points: `10`\n",
    "* static initial points:\n",
    "  * Elasticsearch defaults: `k1`: `1.2`, `b`: `0.75`\n",
    "  * Anserini [1] defaults: `k1`: `0.9`, `b`: `0.4`\n",
    "  \n",
    "[1] [anserini](https://github.com/castorini/anserini) is a commonly used tool in academia for research into search systems"
   ]
  },
  {
   "cell_type": "code",
   "execution_count": 6,
   "metadata": {},
   "outputs": [
    {
     "name": "stdout",
     "output_type": "stream",
     "text": [
      "Optimizing parameters\n",
      " - iteration 2 scored 0.2090 with: {'k1': 0.9, 'b': 0.4}\n",
      " - iteration 3 scored 0.2327 with: {'k1': 2.106460400937828, 'b': 0.9814034832854355}\n",
      " - iteration 4 scored 0.2348 with: {'k1': 3.2107221791452973, 'b': 0.6303789169373522}\n",
      " - iteration 5 scored 0.2250 with: {'k1': 0.832042959138801, 'b': 0.9505828006392114}\n",
      " - iteration 6 scored 0.2033 with: {'k1': 2.5844577103580235, 'b': 0.3172574489160101}\n",
      " - iteration 7 scored 0.2354 with: {'k1': 1.4603070752661074, 'b': 0.9095877171637401}\n",
      " - iteration 8 scored 0.2269 with: {'k1': 3.835769365981418, 'b': 0.5624379914456362}\n",
      " - iteration 9 scored 0.2367 with: {'k1': 4.598047785287948, 'b': 0.9240403737699603}\n",
      " - iteration 10 scored 0.2194 with: {'k1': 4.705663588307449, 'b': 0.5461322345696533}\n",
      " - iteration 11 scored 0.2384 with: {'k1': 4.270664449657518, 'b': 0.8397889874192266}\n",
      " - iteration 12 scored 0.2119 with: {'k1': 3.86729056925115, 'b': 0.430001696200928}\n",
      " - iteration 13 scored 0.2412 with: {'k1': 3.1217404280550722, 'b': 0.8172225981225778}\n",
      " - iteration 14 scored 0.2323 with: {'k1': 4.934173836723698, 'b': 0.9998688878742161}\n",
      " - iteration 15 scored 0.2327 with: {'k1': 3.389134933096273, 'b': 0.9977304765662964}\n",
      " - iteration 16 scored 0.2421 with: {'k1': 3.098156453410976, 'b': 0.7971354476593473}\n",
      " - iteration 17 scored 0.2348 with: {'k1': 4.99212198526179, 'b': 0.7750405579388372}\n",
      " - iteration 18 scored 0.2429 with: {'k1': 2.8257108314507433, 'b': 0.8113377422407053}\n",
      " - iteration 19 scored 0.1935 with: {'k1': 4.9525457511311055, 'b': 0.3005655917549484}\n",
      " - iteration 20 scored 0.2308 with: {'k1': 2.017013826009305, 'b': 0.5781520792526451}\n",
      " - iteration 21 scored 0.2091 with: {'k1': 0.5141268957332755, 'b': 0.6229606244220778}\n",
      " - iteration 22 scored 0.2414 with: {'k1': 2.3968173659502847, 'b': 0.7949958086551479}\n",
      " - iteration 23 scored 0.1965 with: {'k1': 0.5131684983530741, 'b': 0.3039896466603285}\n",
      " - iteration 24 scored 0.2409 with: {'k1': 2.622660236130305, 'b': 0.8485323999493137}\n",
      " - iteration 25 scored 0.2389 with: {'k1': 3.9597867740473895, 'b': 0.7255182687542456}\n",
      " - iteration 26 scored 0.2422 with: {'k1': 2.4733184569158007, 'b': 0.7144570798474494}\n",
      " - iteration 27 scored 0.2408 with: {'k1': 3.613532859821626, 'b': 0.8740987630357122}\n",
      " - iteration 28 scored 0.2378 with: {'k1': 4.994315824625731, 'b': 0.8834352581532692}\n",
      " - iteration 29 scored 0.2421 with: {'k1': 2.8041408384205964, 'b': 0.7704618436321515}\n",
      " - iteration 30 scored 0.2056 with: {'k1': 0.5318334563030904, 'b': 0.9918904386758338}\n",
      " - iteration 31 scored 0.2416 with: {'k1': 2.5545870378475573, 'b': 0.7935142136660833}\n",
      " - iteration 32 scored 0.2392 with: {'k1': 1.974372982216054, 'b': 0.7996840271357548}\n",
      " - iteration 33 scored 0.2405 with: {'k1': 2.940286180266663, 'b': 0.7863418983025502}\n",
      " - iteration 34 scored 0.2419 with: {'k1': 2.7706725404616006, 'b': 0.7877027201965118}\n",
      " - iteration 35 scored 0.2404 with: {'k1': 3.090350981602561, 'b': 0.7887711359404046}\n",
      " - iteration 36 scored 0.2336 with: {'k1': 4.1553920241166775, 'b': 0.999636819141281}\n",
      " - iteration 37 scored 0.2317 with: {'k1': 2.680761958406121, 'b': 0.9990155887730472}\n",
      " - iteration 38 scored 0.2363 with: {'k1': 4.985210192058563, 'b': 0.6777760710701692}\n",
      " - iteration 39 scored 0.2085 with: {'k1': 0.5319587515858595, 'b': 0.8506387381256186}\n",
      " - iteration 40 scored 0.2394 with: {'k1': 3.889418042510545, 'b': 0.797842534293832}\n",
      " - iteration 41 scored 0.2421 with: {'k1': 2.531348940673892, 'b': 0.7752499001271995}\n",
      " - iteration 42 scored 0.2411 with: {'k1': 2.571421582258526, 'b': 0.7726807611750163}\n",
      " - iteration 43 scored 0.2306 with: {'k1': 1.6483455114430952, 'b': 0.9967536106271511}\n",
      " - iteration 44 scored 0.2418 with: {'k1': 2.5631141863045563, 'b': 0.7786362573162182}\n",
      " - iteration 45 scored 0.2422 with: {'k1': 2.7449829836440145, 'b': 0.7753549769497005}\n",
      " - iteration 46 scored 0.2333 with: {'k1': 2.7010735915113515, 'b': 0.618615599962506}\n",
      " - iteration 47 scored 0.2416 with: {'k1': 3.1523182095001285, 'b': 0.7958013133103665}\n",
      " - iteration 48 scored 0.2388 with: {'k1': 1.8599382353260077, 'b': 0.7357810110560726}\n",
      " - iteration 49 scored 0.2367 with: {'k1': 4.427933431558509, 'b': 0.7664951400376869}\n",
      " - iteration 50 scored 0.2415 with: {'k1': 2.5355972897949606, 'b': 0.7921479343759581}\n",
      "Best score: 0.2429\n",
      "Best params: {'k1': 2.8257108314507433, 'b': 0.8113377422407053}\n",
      "Final params: {'k1': 2.8257108314507433, 'b': 0.8113377422407053}\n",
      "\n",
      "CPU times: user 1min 3s, sys: 18.1 s, total: 1min 21s\n",
      "Wall time: 18min 14s\n"
     ]
    }
   ],
   "source": [
    "%%time\n",
    "\n",
    "_, best_params, _, metadata = optimize_bm25_mrr100(es, max_concurrent_searches, 'cross_fields', query_params)"
   ]
  },
  {
   "cell_type": "code",
   "execution_count": 7,
   "metadata": {},
   "outputs": [
    {
     "name": "stdout",
     "output_type": "stream",
     "text": [
      "Score: 0.2685\n",
      "CPU times: user 1.94 s, sys: 488 ms, total: 2.43 s\n",
      "Wall time: 1min 16s\n"
     ]
    }
   ],
   "source": [
    "%%time\n",
    "\n",
    "set_bm25_parameters(es, 'msmarco-document', **best_params)\n",
    "\n",
    "_ = evaluate_mrr100_dev(es, max_concurrent_searches, 'cross_fields', query_params)"
   ]
  },
  {
   "cell_type": "markdown",
   "metadata": {},
   "source": [
    "Pretty good, we see an improvement just from tuning the BM25 parameters. Here's a look at the parameter space, which is easy to plot here since there are just two parameters."
   ]
  },
  {
   "cell_type": "code",
   "execution_count": 8,
   "metadata": {},
   "outputs": [
    {
     "data": {
      "image/png": "[encoded data removed]",
      "text/plain": [
       "<Figure size 288x288 with 4 Axes>"
      ]
     },
     "metadata": {
      "needs_background": "light"
     },
     "output_type": "display_data"
    }
   ],
   "source": [
    "_ = plot_objective(metadata, sample_source='result')"
   ]
  },
  {
   "cell_type": "markdown",
   "metadata": {},
   "source": [
    "It's good to see smooth curves with just a single optimal point in the parameter space.\n",
    "\n",
    "Before we wrap up the notebook, it's good to set the BM25 index settings back to the defaults so that anything we run after this notebook on the same index will not be using unexpected parameter values!"
   ]
  },
  {
   "cell_type": "code",
   "execution_count": 9,
   "metadata": {},
   "outputs": [],
   "source": [
    "set_bm25_parameters(es, 'msmarco-document', **default_bm25_params)"
   ]
  },
  {
   "cell_type": "markdown",
   "metadata": {},
   "source": [
    "## Conclusion\n",
    "\n",
    "We've shown a very simple but principled way to tune BM25 parameters `k1` and `b`. We've used a similar approach as when optimizing query parameters. In this case, it was useful to rely on Bayesian optimization since we set a pretty wide range over parameters. Stepping through each 1/10th or 1/100th of each parameter in a grid search would be very time consuming indeed."
   ]
  },
  {
   "cell_type": "code",
   "execution_count": null,
   "metadata": {},
   "outputs": [],
   "source": []
  }
 ],
 "metadata": {
  "kernelspec": {
   "display_name": "Python 3",
   "language": "python",
   "name": "python3"
  },
  "language_info": {
   "codemirror_mode": {
    "name": "ipython",
    "version": 3
   },
   "file_extension": ".py",
   "mimetype": "text/x-python",
   "name": "python",
   "nbconvert_exporter": "python",
   "pygments_lexer": "ipython3",
   "version": "3.7.7"
  }
 },
 "nbformat": 4,
 "nbformat_minor": 4
}
